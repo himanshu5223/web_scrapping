{
 "cells": [
  {
   "cell_type": "code",
   "execution_count": 117,
   "metadata": {},
   "outputs": [],
   "source": [
    "#scrapping using beautifull soup"
   ]
  },
  {
   "cell_type": "code",
   "execution_count": 118,
   "metadata": {},
   "outputs": [],
   "source": [
    "from bs4 import BeautifulSoup\n",
    "import requests\n",
    "from urllib.request import urlopen as uReq\n",
    "import re\n",
    "import pandas as pd\n",
    "all_data=[]\n",
    "\n",
    "for x in range(1,240):\n",
    "    url=f'https://www.farfetch.com/de/shopping/men/shoes-2/items.aspx?page={x}&view=90&scale=282'\n",
    "    #print(url)\n",
    "    r=requests.get(url)\n",
    "    #print(r)\n",
    "    soup=BeautifulSoup(r.content,'html.parser')\n",
    "    \n",
    "    productlist = soup.find_all('li',class_='_a44404 _d85b45')\n",
    "    #print(productlist)\n",
    "    for detail in productlist:\n",
    "    \n",
    "        name=detail.find('p',itemprop='name').text\n",
    "        brand=detail.find('h3',class_='_346238').text\n",
    "        price=detail.find('div',class_='_6356bb').text\n",
    "        product_url=detail.find('a',class_='_5ce6f6')['href']\n",
    "        #print(product_url)\n",
    "        #href1=detail.find('a',class_='_5ce6f6')\n",
    "        image_url=detail.find('meta',itemprop='image')['content']\n",
    "        #print(image_url)\n",
    "        \n",
    "        #print(name)\n",
    "        #print(brand)\n",
    "        #print(price)\n",
    "        \n",
    "        data = {\n",
    "        'name': name,\n",
    "        'brand':brand,\n",
    "        'price':price,\n",
    "        'product_url':product_url,\n",
    "        'image_url':image_url,      \n",
    "    }\n",
    "        all_data.append(data)\n",
    "\n",
    "print(len(all_data))    \n",
    "\n",
    "df=pd.DataFrame(all_data)\n",
    "df.head()\n",
    "\n",
    "df.to_csv('farfetch_assignment_task.csv')"
   ]
  },
  {
   "cell_type": "code",
   "execution_count": null,
   "metadata": {},
   "outputs": [],
   "source": []
  }
 ],
 "metadata": {
  "kernelspec": {
   "display_name": "Python 3",
   "language": "python",
   "name": "python3"
  },
  "language_info": {
   "codemirror_mode": {
    "name": "ipython",
    "version": 3
   },
   "file_extension": ".py",
   "mimetype": "text/x-python",
   "name": "python",
   "nbconvert_exporter": "python",
   "pygments_lexer": "ipython3",
   "version": "3.8.3"
  }
 },
 "nbformat": 4,
 "nbformat_minor": 4
}
