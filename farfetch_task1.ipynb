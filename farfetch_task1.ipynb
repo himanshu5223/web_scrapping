{
 "cells": [
  {
   "cell_type": "code",
   "execution_count": 4,
   "metadata": {},
   "outputs": [
    {
     "name": "stdout",
     "output_type": "stream",
     "text": [
      "21491\n"
     ]
    }
   ],
   "source": [
    "from bs4 import BeautifulSoup\n",
    "import requests\n",
    "from urllib.request import urlopen as uReq\n",
    "import re\n",
    "import pandas as pd\n",
    "all_data=[]\n",
    "\n",
    "for x in range(1,240):\n",
    "    url=f'https://www.farfetch.com/de/shopping/men/shoes-2/items.aspx?page={x}&view=90&scale=282'\n",
    "    #print(url)\n",
    "    r=requests.get(url)\n",
    "    #print(r)\n",
    "    soup=BeautifulSoup(r.content,'html.parser')\n",
    "    \n",
    "    productlist = soup.find_all('li',class_='_a44404 _d85b45')\n",
    "    #print(productlist)\n",
    "    for detail in productlist:\n",
    "    \n",
    "        Name=detail.find('p',itemprop='name').text\n",
    "        Brand=detail.find('h3',class_='_346238').text\n",
    "        Price=detail.find('div',class_='_6356bb').text\n",
    "        Product_Url=detail.find('a',class_='_5ce6f6')['href']\n",
    "        Image_Url=detail.find('meta',itemprop='image')['content']\n",
    "        \n",
    "        data = {\n",
    "        'Name':Name,\n",
    "        'Brand':Brand,\n",
    "        'Price':Price,\n",
    "        'Product_Url':Product_Url,\n",
    "        'Image_Url':Image_Url,      \n",
    "    }\n",
    "        all_data.append(data)\n",
    "\n",
    "print(len(all_data))    \n",
    "\n",
    "df=pd.DataFrame(all_data)\n",
    "df.head()\n",
    "\n",
    "df.to_csv('farfetch_assignment_task.csv',index=False)"
   ]
  },
  {
   "cell_type": "code",
   "execution_count": 2,
   "metadata": {},
   "outputs": [
    {
     "data": {
      "text/plain": [
       "'/home/himanshu'"
      ]
     },
     "execution_count": 2,
     "metadata": {},
     "output_type": "execute_result"
    }
   ],
   "source": [
    "pwd"
   ]
  },
  {
   "cell_type": "code",
   "execution_count": null,
   "metadata": {},
   "outputs": [],
   "source": []
  }
 ],
 "metadata": {
  "kernelspec": {
   "display_name": "Python 3",
   "language": "python",
   "name": "python3"
  },
  "language_info": {
   "codemirror_mode": {
    "name": "ipython",
    "version": 3
   },
   "file_extension": ".py",
   "mimetype": "text/x-python",
   "name": "python",
   "nbconvert_exporter": "python",
   "pygments_lexer": "ipython3",
   "version": "3.7.1"
  }
 },
 "nbformat": 4,
 "nbformat_minor": 2
}
