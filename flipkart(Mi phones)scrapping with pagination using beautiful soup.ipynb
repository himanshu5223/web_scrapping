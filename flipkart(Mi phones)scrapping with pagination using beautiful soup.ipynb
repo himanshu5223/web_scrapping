{
 "cells": [
  {
   "cell_type": "code",
   "execution_count": 1,
   "metadata": {},
   "outputs": [],
   "source": [
    "from bs4 import BeautifulSoup\n",
    "import requests\n",
    "from urllib.request import urlopen as uReq\n",
    "import re"
   ]
  },
  {
   "cell_type": "code",
   "execution_count": 34,
   "metadata": {},
   "outputs": [
    {
     "name": "stdout",
     "output_type": "stream",
     "text": [
      "24\n",
      "48\n",
      "72\n",
      "96\n",
      "120\n",
      "144\n",
      "168\n",
      "192\n",
      "216\n",
      "240\n",
      "264\n",
      "288\n",
      "312\n",
      "317\n",
      "317\n",
      "317\n",
      "317\n",
      "317\n",
      "317\n",
      "317\n",
      "317\n",
      "317\n",
      "317\n",
      "317\n"
     ]
    }
   ],
   "source": [
    "url1='https://www.flipkart.com/mobiles/mi~brand/pr?sid=tyy,4io&otracker=nmenu_sub_Electronics_0_Mi'\n",
    "url='https://www.flipkart.com/mobiles/mi~brand/pr?sid=tyy%2C4io&otracker=nmenu_sub_Electronics_0_Mi&page='\n",
    "\n",
    "#print(content)\n",
    "all_data=[]\n",
    "for x in range(1,25):\n",
    "    r = requests.get(url+str(x))\n",
    "    #print(r)\n",
    "    soup=BeautifulSoup(r.content,'html.parser')\n",
    "    #print(soup)\n",
    "    content = soup.find_all('div',class_='_13oc-S')\n",
    "    for detail in content:\n",
    "        data={}\n",
    "        try:\n",
    "            data['name']=detail.find('div',class_='_4rR01T').text\n",
    "            #print(name)\n",
    "            data['product_rating']=detail.find('div',class_='_3LWZlK').text\n",
    "            #print(product_rating)\n",
    "            #data['rating']=detail.find('span',class_='_2_R_DZ').text\n",
    "            z=detail.find('span',class_='_2_R_DZ').text\n",
    "            data['ratings']=z.split('&')[-2]\n",
    "            zz=detail.find('span',class_='_2_R_DZ').text\n",
    "            data['review']=z.split('&')[-1]\n",
    "            data['description']=detail.find('ul',class_='_1xgFaf').text\n",
    "            #print(description)\n",
    "            data['regular_price']=detail.find('div',class_='_30jeq3 _1_WHN1').text\n",
    "            #print(regular_price)\n",
    "            data['saleprice']=detail.find('div',class_='_3I9_wc _27UcVY').text\n",
    "            #print(saleprice)\n",
    "            data['offer']=detail.find('div',class_='_3Ay6Sb').text\n",
    "            #print(offer)\n",
    "        except:\n",
    "            #data['regular_price']=''\n",
    "            #print(regular_price)\n",
    "            data['saleprice']=''\n",
    "            #print(saleprice)\n",
    "            data['offer']=''\n",
    "            #print(offer)\n",
    "      #  data={\n",
    "       #     'name':name,\n",
    "        #    'product_rating':product_rating,\n",
    "         #   'description':description,\n",
    "         #   'regular_price':regular_price,\n",
    "         #   'saleprice':saleprice,\n",
    "         #   'offer':offer,\n",
    "        #}\n",
    "        all_data.append(data)\n",
    "    print(len(all_data))\n",
    "import pandas as pd\n",
    "df=pd.DataFrame(all_data)\n",
    "df.head()\n",
    "df.to_csv(\"flipkart.csv\")"
   ]
  },
  {
   "cell_type": "code",
   "execution_count": null,
   "metadata": {},
   "outputs": [],
   "source": []
  },
  {
   "cell_type": "code",
   "execution_count": null,
   "metadata": {},
   "outputs": [],
   "source": []
  }
 ],
 "metadata": {
  "kernelspec": {
   "display_name": "Python 3",
   "language": "python",
   "name": "python3"
  },
  "language_info": {
   "codemirror_mode": {
    "name": "ipython",
    "version": 3
   },
   "file_extension": ".py",
   "mimetype": "text/x-python",
   "name": "python",
   "nbconvert_exporter": "python",
   "pygments_lexer": "ipython3",
   "version": "3.8.5"
  }
 },
 "nbformat": 4,
 "nbformat_minor": 4
}
