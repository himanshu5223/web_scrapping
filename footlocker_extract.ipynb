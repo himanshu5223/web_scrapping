{
 "cells": [
  {
   "cell_type": "code",
   "execution_count": 7,
   "metadata": {},
   "outputs": [],
   "source": [
    "import requests\n",
    "from bs4 import BeautifulSoup\n",
    "import re"
   ]
  },
  {
   "cell_type": "code",
   "execution_count": 8,
   "metadata": {},
   "outputs": [
    {
     "name": "stdout",
     "output_type": "stream",
     "text": [
      "https://www.footlocker.com/release-dates\n"
     ]
    }
   ],
   "source": [
    "url = 'https://www.footlocker.com/release-dates'\n",
    "print(url)"
   ]
  },
  {
   "cell_type": "code",
   "execution_count": 9,
   "metadata": {},
   "outputs": [
    {
     "name": "stdout",
     "output_type": "stream",
     "text": [
      "200\n"
     ]
    }
   ],
   "source": [
    "import requests\n",
    "from bs4 import BeautifulSoup\n",
    "import re\n",
    "r = requests.get(url)\n",
    "soup = BeautifulSoup(r.text, 'html.parser')\n",
    "#print(soup)\n",
    "print(r.status_code)"
   ]
  },
  {
   "cell_type": "code",
   "execution_count": 10,
   "metadata": {},
   "outputs": [],
   "source": [
    "user_name = soup.find(class_='footlocker-web-app FL')\n",
    "#print(user_name.text)"
   ]
  },
  {
   "cell_type": "code",
   "execution_count": 114,
   "metadata": {},
   "outputs": [],
   "source": [
    "import json\n",
    "import re\n",
    "script1 = soup.find_all('script')[4].string.strip()[67:-573]\n",
    "script2 = soup.find_all('script')[4].string.strip()[67:-82011]\n",
    "script = soup.find_all('script')[4].string.strip()[67:-58515]\n",
    "\n",
    "#print(script)\n",
    "js = json.loads(script)\n",
    "#print(js)\n",
    "all_data=[]\n",
    "for item in range(1,242):\n",
    "    product_id= js['releaseCalendar']['products'][item]['reservation']['productId']\n",
    "    price = js['releaseCalendar']['products'][item]['reservation']['prices']['us']\n",
    "    brandName=js['releaseCalendar']['products'][item]['brandName']\n",
    "    sku=js['releaseCalendar']['products'][item]['id']\n",
    "    product_name=js['releaseCalendar']['products'][item]['name']\n",
    "    launch_date=js['releaseCalendar']['products'][item]['skuLaunchDate']\n",
    "    store=js['releaseCalendar']['products'][item]['onlyInStore']\n",
    "    style=js['releaseCalendar']['products'][item]['style']\n",
    "    gender=js['releaseCalendar']['products'][item]['gender']\n",
    "    pdpLink=js['releaseCalendar']['products'][item]['pdpLink']\n",
    "    data= {\n",
    "        'product_id':product_id,\n",
    "        'price':price,\n",
    "        'brandName':brandName,\n",
    "        'sku':sku,\n",
    "        'product_name':product_name,\n",
    "        'launch_date':launch_date,\n",
    "        'store':store,\n",
    "        'style':style,\n",
    "        'gender':gender,\n",
    "        'pdpLink':pdpLink\n",
    "        \n",
    "    }\n",
    "    all_data.append(data)\n",
    "#print(all_data)\n",
    "import pandas as pd\n",
    "df = pd.DataFrame(all_data)\n",
    "df.head()\n",
    "df.to_csv('footlocker.csv')"
   ]
  },
  {
   "cell_type": "code",
   "execution_count": 95,
   "metadata": {},
   "outputs": [
    {
     "data": {
      "text/plain": [
       "'/home/himanshu/ssh'"
      ]
     },
     "execution_count": 95,
     "metadata": {},
     "output_type": "execute_result"
    }
   ],
   "source": [
    "pwd"
   ]
  }
 ],
 "metadata": {
  "kernelspec": {
   "display_name": "Python 3",
   "language": "python",
   "name": "python3"
  },
  "language_info": {
   "codemirror_mode": {
    "name": "ipython",
    "version": 3
   },
   "file_extension": ".py",
   "mimetype": "text/x-python",
   "name": "python",
   "nbconvert_exporter": "python",
   "pygments_lexer": "ipython3",
   "version": "3.7.1"
  }
 },
 "nbformat": 4,
 "nbformat_minor": 2
}
