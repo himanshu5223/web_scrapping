{
 "cells": [
  {
   "cell_type": "code",
   "execution_count": 1,
   "metadata": {},
   "outputs": [],
   "source": [
    "#########blue tomatoo snowboard #########"
   ]
  },
  {
   "cell_type": "code",
   "execution_count": 8,
   "metadata": {},
   "outputs": [
    {
     "name": "stdout",
     "output_type": "stream",
     "text": [
      "2670\n"
     ]
    }
   ],
   "source": [
    "from bs4 import BeautifulSoup\n",
    "import requests\n",
    "from urllib.request import urlopen as uReq\n",
    "import re\n",
    "import pandas as pd\n",
    "all_data=[]\n",
    "for x in range(0,3):\n",
    "    url=['https://www.blue-tomato.com/de-AT/products/categories/Snowboard+Shop-00000000/gender/men/?page=',\n",
    "         'https://www.blue-tomato.com/de-AT/products/categories/Snowboard+Shop-00000000/gender/women/?page=',\n",
    "         'https://www.blue-tomato.com/de-AT/products/categories/Snowboard+Shop-00000000/gender/boys--girls/?page=']\n",
    "    for y in range(1,19):\n",
    "        value=url[x]+str(y)\n",
    "        #print(value)\n",
    "        r = requests.get(value)\n",
    "        #print(r)\n",
    "        soup=BeautifulSoup(r.content,'html.parser')\n",
    "        productlist=soup.find_all('li',class_='productcell')\n",
    "        for detail in productlist:\n",
    "            try:\n",
    "                Name=detail.find('a',class_='name track-click track-load-producttile')['data-productname']\n",
    "                Product_Url=detail.find('a',class_='name track-click track-load-producttile')['href']\n",
    "                Brand=detail.find('a',class_='name track-click track-load-producttile')['data-brand']\n",
    "                Image_Url=detail.find('img')[\"src\"]\n",
    "                price1=detail.find('span',class_='price sale').text.strip()\n",
    "                # print(price1) \n",
    "                price2=price1.split('stat')[0]\n",
    "                Price=price2.replace(',','')\n",
    "                #print(price)\n",
    "            except:\n",
    "                price1=''\n",
    "                #print(price1)\n",
    "                data={\n",
    "                    'Name': Name,\n",
    "                    'Brand':Brand,\n",
    "                    'Price':Price,\n",
    "                    'Product_Url':Product_Url,\n",
    "                    'Image_Url':Image_Url,      \n",
    "                }\n",
    "            all_data.append(data)\n",
    "print(len(all_data))    \n",
    "df=pd.DataFrame(all_data)\n",
    "df.head()\n",
    "df.to_csv('blue_snowboard_assignment_task.csv',index=False)"
   ]
  },
  {
   "cell_type": "code",
   "execution_count": null,
   "metadata": {},
   "outputs": [],
   "source": []
  }
 ],
 "metadata": {
  "kernelspec": {
   "display_name": "Python 3",
   "language": "python",
   "name": "python3"
  },
  "language_info": {
   "codemirror_mode": {
    "name": "ipython",
    "version": 3
   },
   "file_extension": ".py",
   "mimetype": "text/x-python",
   "name": "python",
   "nbconvert_exporter": "python",
   "pygments_lexer": "ipython3",
   "version": "3.7.1"
  }
 },
 "nbformat": 4,
 "nbformat_minor": 2
}
